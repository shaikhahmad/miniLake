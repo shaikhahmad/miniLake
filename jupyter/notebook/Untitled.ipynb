{
 "cells": [
  {
   "cell_type": "code",
   "execution_count": 1,
   "id": "b9bc8902-bffb-4d09-9cc3-f035407d1ecf",
   "metadata": {},
   "outputs": [],
   "source": [
    "import findspark\n",
    "findspark.init()\n",
    "import pyspark.sql.functions as F"
   ]
  },
  {
   "cell_type": "code",
   "execution_count": 2,
   "id": "ce041740-7be2-43ee-93a7-e99cab8f8832",
   "metadata": {},
   "outputs": [
    {
     "name": "stderr",
     "output_type": "stream",
     "text": [
      "Setting default log level to \"WARN\".\n",
      "To adjust logging level use sc.setLogLevel(newLevel). For SparkR, use setLogLevel(newLevel).\n"
     ]
    }
   ],
   "source": [
    "import pyspark\n",
    "from pyspark.sql import SparkSession\n",
    "\n",
    "spark = SparkSession.builder.appName('jupyter-spark') \\\n",
    "    .enableHiveSupport()\\\n",
    "    .getOrCreate()\n",
    "sc = spark.sparkContext"
   ]
  },
  {
   "cell_type": "code",
   "execution_count": 3,
   "id": "a42945e6-8108-4806-b2d3-c8f99bff68ac",
   "metadata": {},
   "outputs": [
    {
     "data": {
      "text/html": [
       "\n",
       "            <div>\n",
       "                <p><b>SparkSession - hive</b></p>\n",
       "                \n",
       "        <div>\n",
       "            <p><b>SparkContext</b></p>\n",
       "\n",
       "            <p><a href=\"http://root:4040\">Spark UI</a></p>\n",
       "\n",
       "            <dl>\n",
       "              <dt>Version</dt>\n",
       "                <dd><code>v3.3.1</code></dd>\n",
       "              <dt>Master</dt>\n",
       "                <dd><code>yarn</code></dd>\n",
       "              <dt>AppName</dt>\n",
       "                <dd><code>jupyter-spark</code></dd>\n",
       "            </dl>\n",
       "        </div>\n",
       "        \n",
       "            </div>\n",
       "        "
      ],
      "text/plain": [
       "<pyspark.sql.session.SparkSession at 0x7f6ca4301340>"
      ]
     },
     "execution_count": 3,
     "metadata": {},
     "output_type": "execute_result"
    }
   ],
   "source": [
    "spark"
   ]
  },
  {
   "cell_type": "code",
   "execution_count": 4,
   "id": "fdc6d68e-99de-4df3-8e9e-1bb0cd4648e9",
   "metadata": {},
   "outputs": [
    {
     "name": "stdout",
     "output_type": "stream",
     "text": [
      "+---------+\n",
      "|namespace|\n",
      "+---------+\n",
      "|  default|\n",
      "|     lab5|\n",
      "+---------+\n",
      "\n"
     ]
    }
   ],
   "source": [
    "# df = spark.sql(\"SELECT * FROM src\")\n",
    "\n",
    "spark.sql('show databases').show()"
   ]
  },
  {
   "cell_type": "code",
   "execution_count": 5,
   "id": "53dbe74b-5514-4c39-b274-82d237dd0b1d",
   "metadata": {},
   "outputs": [],
   "source": [
    "geos = spark.sql(\"select * from lab5.geos\")"
   ]
  },
  {
   "cell_type": "code",
   "execution_count": 7,
   "id": "911a42e1-7862-4802-8139-50a875c374aa",
   "metadata": {},
   "outputs": [
    {
     "name": "stdout",
     "output_type": "stream",
     "text": [
      "root\n",
      " |-- truckid: string (nullable = true)\n",
      " |-- driverid: string (nullable = true)\n",
      " |-- event: string (nullable = true)\n",
      " |-- latitude: decimal(5,0) (nullable = true)\n",
      " |-- logitude: decimal(5,0) (nullable = true)\n",
      " |-- city: string (nullable = true)\n",
      " |-- state: string (nullable = true)\n",
      " |-- velocity: integer (nullable = true)\n",
      " |-- event_ind: integer (nullable = true)\n",
      " |-- idling_ind: integer (nullable = true)\n",
      "\n"
     ]
    }
   ],
   "source": [
    "geos.printSchema()"
   ]
  },
  {
   "cell_type": "code",
   "execution_count": 8,
   "id": "550adae9-9507-4610-8aa3-730f2afbf6c6",
   "metadata": {},
   "outputs": [
    {
     "name": "stderr",
     "output_type": "stream",
     "text": [
      "[Stage 0:>                                                          (0 + 1) / 1]\r"
     ]
    },
    {
     "name": "stdout",
     "output_type": "stream",
     "text": [
      "+-------+--------+--------------------+--------+--------+-----------+----------+--------+---------+----------+\n",
      "|truckid|driverid|               event|latitude|logitude|       city|     state|velocity|event_ind|idling_ind|\n",
      "+-------+--------+--------------------+--------+--------+-----------+----------+--------+---------+----------+\n",
      "|truckid|driverid|               event|    null|    null|       city|     state|    null|     null|      null|\n",
      "|    A54|     A54|              normal|      38|    -123| Santa Rosa|California|      17|        0|         0|\n",
      "|    A20|     A20|              normal|      37|    -122|      Aptos|California|      27|        0|         0|\n",
      "|    A40|     A40|           overspeed|      38|    -121|   Stockton|California|      77|        1|         0|\n",
      "|    A31|     A31|              normal|      39|    -123|    Willits|California|      22|        0|         0|\n",
      "|    A71|     A71|              normal|      34|    -118|     Irvine|California|      43|        0|         0|\n",
      "|    A50|     A50|              normal|      38|    -123| Occidental|California|       0|        0|         1|\n",
      "|    A51|     A51|              normal|      38|    -121|    Modesto|California|       0|        0|         1|\n",
      "|    A19|     A19|              normal|      38|    -122|  San Pablo|California|       0|        0|         1|\n",
      "|    A77|     A77|              normal|      38|    -122|  San Pablo|California|      25|        0|         0|\n",
      "|    A92|     A92|              normal|      37|    -120|   Mariposa|California|       0|        0|         1|\n",
      "|    A89|     A89|              normal|      39|    -122|   Arbuckle|California|      38|        0|         0|\n",
      "|    A86|     A86|              normal|      33|    -117|  San Diego|California|      45|        0|         0|\n",
      "|     A5|      A5|unsafe following ...|      42|    -124|    Klamath|California|      33|        1|         0|\n",
      "|    A54|     A54|              normal|      35|    -119|Bakersfield|California|      19|        0|         0|\n",
      "|    A48|     A48|           overspeed|      39|    -121|  Roseville|California|      77|        1|         0|\n",
      "|     A2|      A2|              normal|      33|    -116|    Jacumba|California|      50|        0|         0|\n",
      "|    A98|     A98|              normal|      33|    -117|  Oceanside|California|      27|        0|         0|\n",
      "|    A10|     A10|              normal|      41|    -124|   Kneeland|California|       0|        0|         1|\n",
      "|    A12|     A12|              normal|      38|    -122|  Knightsen|California|      59|        0|         0|\n",
      "+-------+--------+--------------------+--------+--------+-----------+----------+--------+---------+----------+\n",
      "only showing top 20 rows\n",
      "\n"
     ]
    },
    {
     "name": "stderr",
     "output_type": "stream",
     "text": [
      "                                                                                \r"
     ]
    }
   ],
   "source": [
    "geos.show()"
   ]
  },
  {
   "cell_type": "code",
   "execution_count": 9,
   "id": "a0286347-6286-4e38-8186-a8703dc5cf74",
   "metadata": {},
   "outputs": [
    {
     "name": "stderr",
     "output_type": "stream",
     "text": [
      "[Stage 1:=============================>                             (1 + 1) / 2]\r"
     ]
    },
    {
     "name": "stdout",
     "output_type": "stream",
     "text": [
      "+-------+-------+--------+--------------------+------------------+------------------+--------+----------+------------------+-------------------+-------------------+\n",
      "|summary|truckid|driverid|               event|          latitude|          logitude|    city|     state|          velocity|          event_ind|         idling_ind|\n",
      "+-------+-------+--------+--------------------+------------------+------------------+--------+----------+------------------+-------------------+-------------------+\n",
      "|  count|   8001|    8001|                8001|              8000|              8000|    8001|      8001|              8000|               8000|               8000|\n",
      "|   mean|   null|    null|                null|           37.0910|         -118.5651|    null|      null|           35.0565|           0.056375|           0.230375|\n",
      "| stddev|   null|    null|                null|2.1557017143462023|16.028735875954087|    null|      null|24.863750391090214|0.23065886025411372|0.42109918658270745|\n",
      "|    min|     A1|      A1|               event|                33|              -124|Antelope|California|                 0|                  0|                  0|\n",
      "|    max|truckid|driverid|unsafe tail distance|                42|                -6|    city|     state|               100|                  1|                  1|\n",
      "+-------+-------+--------+--------------------+------------------+------------------+--------+----------+------------------+-------------------+-------------------+\n",
      "\n"
     ]
    },
    {
     "name": "stderr",
     "output_type": "stream",
     "text": [
      "                                                                                \r"
     ]
    }
   ],
   "source": [
    "geos.describe().show()"
   ]
  },
  {
   "cell_type": "code",
   "execution_count": 13,
   "id": "5ac255b1-e0e4-4736-86a0-6cc46860ed07",
   "metadata": {},
   "outputs": [
    {
     "name": "stdout",
     "output_type": "stream",
     "text": [
      "+---+-------+-------+\n",
      "|key|  value|evenOdd|\n",
      "+---+-------+-------+\n",
      "|238|val_238|      0|\n",
      "| 86| val_86|      0|\n",
      "|311|val_311|      1|\n",
      "| 27| val_27|      1|\n",
      "|165|val_165|      1|\n",
      "|409|val_409|      1|\n",
      "|255|val_255|      1|\n",
      "|278|val_278|      0|\n",
      "| 98| val_98|      0|\n",
      "|484|val_484|      0|\n",
      "|265|val_265|      1|\n",
      "|193|val_193|      1|\n",
      "|401|val_401|      1|\n",
      "|150|val_150|      0|\n",
      "|273|val_273|      1|\n",
      "|224|val_224|      0|\n",
      "|369|val_369|      1|\n",
      "| 66| val_66|      0|\n",
      "|128|val_128|      0|\n",
      "|213|val_213|      1|\n",
      "+---+-------+-------+\n",
      "only showing top 20 rows\n",
      "\n"
     ]
    }
   ],
   "source": [
    "df.withColumn('evenOdd', df.key%2).show()"
   ]
  },
  {
   "cell_type": "code",
   "execution_count": 15,
   "id": "d391e109-4ebd-4ba2-b02c-8fbabdf0f241",
   "metadata": {},
   "outputs": [
    {
     "name": "stdout",
     "output_type": "stream",
     "text": [
      "+---+-------+-------+\n",
      "|key|  value|evenOdd|\n",
      "+---+-------+-------+\n",
      "|238|val_238|    238|\n",
      "| 86| val_86|     86|\n",
      "|311|val_311|    311|\n",
      "| 27| val_27|     27|\n",
      "|165|val_165|    165|\n",
      "|409|val_409|    409|\n",
      "|255|val_255|    255|\n",
      "|278|val_278|    278|\n",
      "| 98| val_98|     98|\n",
      "|484|val_484|    484|\n",
      "|265|val_265|    265|\n",
      "|193|val_193|    193|\n",
      "|401|val_401|    401|\n",
      "|150|val_150|    150|\n",
      "|273|val_273|    273|\n",
      "|224|val_224|    224|\n",
      "|369|val_369|    369|\n",
      "| 66| val_66|     66|\n",
      "|128|val_128|    128|\n",
      "|213|val_213|    213|\n",
      "+---+-------+-------+\n",
      "only showing top 20 rows\n",
      "\n"
     ]
    }
   ],
   "source": [
    "df.withColumn('evenOdd', F.col('key')).show()"
   ]
  },
  {
   "cell_type": "code",
   "execution_count": null,
   "id": "b172a413-786a-42a6-b7be-d3c1a72b5ac0",
   "metadata": {},
   "outputs": [],
   "source": []
  }
 ],
 "metadata": {
  "kernelspec": {
   "display_name": "Python 3 (ipykernel)",
   "language": "python",
   "name": "python3"
  },
  "language_info": {
   "codemirror_mode": {
    "name": "ipython",
    "version": 3
   },
   "file_extension": ".py",
   "mimetype": "text/x-python",
   "name": "python",
   "nbconvert_exporter": "python",
   "pygments_lexer": "ipython3",
   "version": "3.8.13"
  }
 },
 "nbformat": 4,
 "nbformat_minor": 5
}
